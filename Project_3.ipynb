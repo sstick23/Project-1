{
  "nbformat": 4,
  "nbformat_minor": 0,
  "metadata": {
    "colab": {
      "provenance": [],
      "toc_visible": true,
      "authorship_tag": "ABX9TyNQ9bsFtp3DfFAnC88OYl/L",
      "include_colab_link": true
    },
    "kernelspec": {
      "name": "python3",
      "display_name": "Python 3"
    },
    "language_info": {
      "name": "python"
    }
  },
  "cells": [
    {
      "cell_type": "markdown",
      "metadata": {
        "id": "view-in-github",
        "colab_type": "text"
      },
      "source": [
        "<a href=\"https://colab.research.google.com/github/sstick23/Project-1/blob/main/Project_3.ipynb\" target=\"_parent\"><img src=\"https://colab.research.google.com/assets/colab-badge.svg\" alt=\"Open In Colab\"/></a>"
      ]
    },
    {
      "cell_type": "code",
      "execution_count": 1,
      "metadata": {
        "id": "O9fxOoSCd6wA"
      },
      "outputs": [],
      "source": [
        "from sympy import *\n",
        "\n",
        "x = symbols ('x')\n"
      ]
    },
    {
      "cell_type": "code",
      "source": [
        "f = sqrt((x**4-x+19)/(x**4+x+19))\n",
        "f"
      ],
      "metadata": {
        "colab": {
          "base_uri": "https://localhost:8080/",
          "height": 58
        },
        "id": "Ff2p_0aXeDBQ",
        "outputId": "1d5f5d83-6b0c-43af-afd5-f743d80fdf20"
      },
      "execution_count": 3,
      "outputs": [
        {
          "output_type": "execute_result",
          "data": {
            "text/plain": [
              "sqrt((x**4 - x + 19)/(x**4 + x + 19))"
            ],
            "text/latex": "$\\displaystyle \\sqrt{\\frac{x^{4} - x + 19}{x^{4} + x + 19}}$"
          },
          "metadata": {},
          "execution_count": 3
        }
      ]
    },
    {
      "cell_type": "code",
      "source": [
        "f.diff(x).simplify ()\n",
        "#[*  3 sqrt((x**4-x+19)/(x**4+x+19))"
      ],
      "metadata": {
        "colab": {
          "base_uri": "https://localhost:8080/",
          "height": 68
        },
        "id": "ffRsTza1gyQt",
        "outputId": "c79492ba-29d0-4e90-b25f-6e549c57388f"
      },
      "execution_count": 5,
      "outputs": [
        {
          "output_type": "execute_result",
          "data": {
            "text/plain": [
              "sqrt((x**4 - x + 19)/(x**4 + x + 19))*(3*x**4 - 19)/(x**8 + 38*x**4 - x**2 + 361)"
            ],
            "text/latex": "$\\displaystyle \\frac{\\sqrt{\\frac{x^{4} - x + 19}{x^{4} + x + 19}} \\left(3 x^{4} - 19\\right)}{x^{8} + 38 x^{4} - x^{2} + 361}$"
          },
          "metadata": {},
          "execution_count": 5
        }
      ]
    },
    {
      "cell_type": "code",
      "source": [
        "nsolve(f.diff(x),x,2)"
      ],
      "metadata": {
        "colab": {
          "base_uri": "https://localhost:8080/",
          "height": 37
        },
        "id": "FTFFEyHtGloN",
        "outputId": "1e5aa73e-ff2f-4168-849d-068e186d1dd9"
      },
      "execution_count": 16,
      "outputs": [
        {
          "output_type": "execute_result",
          "data": {
            "text/plain": [
              "1.58638314363951"
            ],
            "text/latex": "$\\displaystyle 1.58638314363951$"
          },
          "metadata": {},
          "execution_count": 16
        }
      ]
    },
    {
      "cell_type": "code",
      "source": [],
      "metadata": {
        "id": "xZuiNqnOGp6o"
      },
      "execution_count": null,
      "outputs": []
    }
  ]
}