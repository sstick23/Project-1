{
  "nbformat": 4,
  "nbformat_minor": 0,
  "metadata": {
    "colab": {
      "name": "Untitled0.ipynb",
      "provenance": [],
      "include_colab_link": true
    },
    "kernelspec": {
      "name": "python3",
      "display_name": "Python 3"
    }
  },
  "cells": [
    {
      "cell_type": "markdown",
      "metadata": {
        "id": "view-in-github",
        "colab_type": "text"
      },
      "source": [
        "<a href=\"https://colab.research.google.com/github/sstick23/Project-1/blob/main/project1.ipynb\" target=\"_parent\"><img src=\"https://colab.research.google.com/assets/colab-badge.svg\" alt=\"Open In Colab\"/></a>"
      ]
    },
    {
      "cell_type": "markdown",
      "metadata": {
        "id": "YCJaepmmfKrS"
      },
      "source": [
        "# Project Part # : MATH 2825 [Dr. Jacob's](https://github.com/nurfnick) Calculus and Analytic Geometry \n",
        "\n",
        "## Project Name\n",
        "\n",
        "### Student's Name and ID\n",
        "\n",
        "\n"
      ]
    },
    {
      "cell_type": "code",
      "source": [
        "#some packages that we will use a lot\n",
        "import numpy as np\n",
        "import matplotlib.pyplot as plt\n",
        "from sympy import *"
      ],
      "metadata": {
        "id": "2pH4x0G9DgDF"
      },
      "execution_count": null,
      "outputs": []
    },
    {
      "cell_type": "markdown",
      "metadata": {
        "id": "Xs_Pvtua1Nnt"
      },
      "source": [
        "## 1 Squareroot Function"
      ]
    },
    {
      "cell_type": "markdown",
      "metadata": {
        "id": "2z6U1aB_fQDM"
      },
      "source": [
        "First tell me what you are trying to do in words"
      ]
    },
    {
      "cell_type": "code",
      "metadata": {
        "id": "rU_BgC_kfH7g"
      },
      "source": [
        "a = 42\n",
        "\n",
        "def squareRootFunction(x):\n",
        "  return np.sqrt(a*x+1)\n",
        "\n",
        "\n"
      ],
      "execution_count": null,
      "outputs": []
    },
    {
      "cell_type": "markdown",
      "metadata": {
        "id": "Iggon6VK1Vxo"
      },
      "source": [
        "Some more text hopefully explaining why what you did worked."
      ]
    },
    {
      "cell_type": "markdown",
      "source": [
        "Maybe even typset the inequalities\n",
        "$$\n",
        "ax+1\\geq 0\n",
        "$$"
      ],
      "metadata": {
        "id": "dFCwel7vDz-A"
      }
    },
    {
      "cell_type": "code",
      "source": [
        "x = np.arange(1,5,.001)\n",
        "\n",
        "y = squareRootFunction(x)\n",
        "\n",
        "plt.plot(x,y)"
      ],
      "metadata": {
        "id": "WUsa40VSENZN",
        "outputId": "77d79cf5-9157-4f9f-e8b3-d92c4199890a",
        "colab": {
          "base_uri": "https://localhost:8080/",
          "height": 283
        }
      },
      "execution_count": null,
      "outputs": [
        {
          "output_type": "execute_result",
          "data": {
            "text/plain": [
              "[<matplotlib.lines.Line2D at 0x7f78f8925f10>]"
            ]
          },
          "metadata": {},
          "execution_count": 4
        },
        {
          "output_type": "display_data",
          "data": {
            "text/plain": [
              "<Figure size 432x288 with 1 Axes>"
            ],
            "image/png": "[encoded data removed]"
          },
          "metadata": {
            "needs_background": "light"
          }
        }
      ]
    },
    {
      "cell_type": "markdown",
      "metadata": {
        "id": "_7RoPTU_hXG1"
      },
      "source": [
        "## 2 Function Composition"
      ]
    },
    {
      "cell_type": "markdown",
      "metadata": {
        "id": "MMXFYCZ6hajg"
      },
      "source": [
        "Math and other fun stuff....\n",
        "$$\n",
        "f_0(x) = \\frac{1}{a-x}\n",
        "$$\n",
        "and \n",
        "$$\n",
        "f_{n+1} = f_0\\circ f_n\n",
        "$$\n",
        "\n",
        "Make sure to mention if you are using packages!\n",
        "\n",
        "In order to compute these, I will need to import the math package."
      ]
    },
    {
      "cell_type": "code",
      "metadata": {
        "id": "5U5T3Fld5X0S"
      },
      "source": [],
      "execution_count": null,
      "outputs": []
    },
    {
      "cell_type": "markdown",
      "source": [
        "## 3 Secant Lines"
      ],
      "metadata": {
        "id": "XCP9Z-8EEtfD"
      }
    },
    {
      "cell_type": "code",
      "source": [],
      "metadata": {
        "id": "zEaVfgAOEwNk"
      },
      "execution_count": null,
      "outputs": []
    }
  ]
}